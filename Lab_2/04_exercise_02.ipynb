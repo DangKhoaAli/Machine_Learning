{
 "cells": [
  {
   "cell_type": "markdown",
   "id": "e645a25e",
   "metadata": {},
   "source": [
    "# **Kỹ thuật lập trình Python**"
   ]
  },
  {
   "cell_type": "markdown",
   "id": "f01b6dcd",
   "metadata": {},
   "source": [
    "## **Làm quen với Numpy**"
   ]
  },
  {
   "cell_type": "markdown",
   "id": "bb5defb8",
   "metadata": {},
   "source": [
    "### **Bài 1. Tính toán trên dãy số**"
   ]
  },
  {
   "cell_type": "markdown",
   "id": "4fc288bd",
   "metadata": {},
   "source": [
    "#### ***1. Tạo một dãy số a có N phần tử (N = 10)***"
   ]
  },
  {
   "cell_type": "code",
   "execution_count": 4,
   "id": "c122c12c",
   "metadata": {},
   "outputs": [
    {
     "name": "stdout",
     "output_type": "stream",
     "text": [
      "1. Tạo một dãy số a có N phần tử (N = 10)\n",
      "Day so a:  [161 122 106 159 112 175 178 193 139 152]\n"
     ]
    }
   ],
   "source": [
    "import numpy as np # Khai báo thư viện numpy\n",
    "\n",
    "print(\"1. Tạo một dãy số a có N phần tử (N = 10)\")\n",
    "a = np.random.randint(100, 200, size=10)\n",
    "# ...\n",
    "\n",
    "print(\"Day so a: \", a)"
   ]
  },
  {
   "cell_type": "markdown",
   "id": "0f355c47",
   "metadata": {},
   "source": [
    "#### ***2. Các thao tác trên dãy số a***\n",
    "\n",
    "***(a)*** Bình phương các phần tử trong dãy số  <br>\n",
    "***(b)*** Tìm số lượng các phần tử của dãy số  <br>\n",
    "***(c)*** In ra giá trị lớn nhất, giá trị nhỏ nhất và giá trị trung bình  <br>\n",
    "***(d)*** Tính phương sai của dãy số:  $\\sigma^2 = \\frac{\\sum (a_i - \\mu)^2}{N - 1}$  với  $\\mu = \\frac{\\sum a_i}{N}$  và độ lệch chuẩn $var = \\sqrt{\\sigma^2}$"
   ]
  },
  {
   "cell_type": "code",
   "execution_count": 15,
   "id": "81614bc2",
   "metadata": {},
   "outputs": [
    {
     "name": "stdout",
     "output_type": "stream",
     "text": [
      "2. Các thao tác tính toán đơn giản với dãy số a\n",
      "a. Binh phuong a:  [14400 33489 25600 30625 21025 26244 36100 25600 23104 26244]\n",
      "\n",
      "b. Do dai a:  10\n",
      "\n",
      "c. Gia tri lon nhat: [190], gia tri nho nhat: [120], gia tri trung binh [160.9]\n",
      "\n",
      "d. Phuong sai: [ 393.66] va do lech chuan: [ 19.84]\n"
     ]
    }
   ],
   "source": [
    "print(\"2. Các thao tác tính toán đơn giản với dãy số a\")\n",
    "a = np.array([120, 183, 160, 175, 145, 162, 190, 160, 152, 162,])\n",
    "# ...\n",
    "a2 = a**2\n",
    "print(\"a. Binh phuong a: \", a2)\n",
    "\n",
    "na = a.size\n",
    "print(\"\\nb. Do dai a: \", na)\n",
    "\n",
    "v_min = np.min(a)\n",
    "v_max = np.max(a)\n",
    "v_avg = np.average(a)\n",
    "# ...\n",
    "\n",
    "print(f'\\nc. Gia tri lon nhat: [{v_max}], gia tri nho nhat: [{v_min}], gia tri trung binh [{v_avg}]')\n",
    "\n",
    "v_sigma2 = np.var(a, ddof=1)\n",
    "v_var = np.std(a, ddof=1)\n",
    "# ...\n",
    "\n",
    "print(f'\\nd. Phuong sai: [{v_sigma2: .2f}] va do lech chuan: [{v_var: .2f}]')"
   ]
  },
  {
   "cell_type": "markdown",
   "id": "da9c3157",
   "metadata": {},
   "source": [
    "#### ***3. Toán tử trên hai dãy số***\n",
    "***(a)*** Tạo dãy số x có 10 phần tử từ 1 đến 10 (dùng hàm *np.arange*)<br>\n",
    "***(b)*** Liệt kê và đếm số lượng phần tử chẵn và lẻ có trong dãy a và x<br>\n",
    "***(c)*** Tính khoảng cách giữa các phần tử ở vị trí lẻ của mảng a và x với $ s = \\sqrt{\\sum{(a_i - x_i)^2}}$ với $i$ lẻ<br>\n",
    "***(d)*** Tìm khoảng cách nhỏ nhất giữa tập a và x. Ví dụ:$ min $ {{1, 3, 5}, {2, 10, 8}} = 1  <br>"
   ]
  },
  {
   "cell_type": "code",
   "execution_count": 14,
   "id": "21ef5596",
   "metadata": {},
   "outputs": [
    {
     "name": "stdout",
     "output_type": "stream",
     "text": [
      "3. Xử lý khác trên dãy số\n",
      "a. Day so x: [ 1  2  3  4  5  6  7  8  9 10]\n"
     ]
    }
   ],
   "source": [
    "print(\"3. Xử lý khác trên dãy số\")\n",
    "x = np.arange(1, 11)\n",
    "# ...\n",
    "\n",
    "print(f'a. Day so x: {x}')"
   ]
  },
  {
   "cell_type": "code",
   "execution_count": 25,
   "id": "415a50de",
   "metadata": {},
   "outputs": [
    {
     "name": "stdout",
     "output_type": "stream",
     "text": [
      "b. Cac phan tu chan trong day a, b: \n",
      "+ Day a: [120 183 160 175 145 162 190 160 152 162]\n",
      "  - Loc chan: [ True False  True False False  True  True  True  True  True]\n",
      "  - Day chua phan tu chan trong a: [120 160 162 190 160 152 162], so luong 7 phan tu.\n",
      "+ Day x: [ 1  2  3  4  5  6  7  8  9 10]\n",
      "  - Loc chan: [False  True False  True False  True False  True False  True]\n",
      "  - Day chua phan tu chan trong a: [ 2  4  6  8 10], so luong 5 phan tu.\n"
     ]
    }
   ],
   "source": [
    "def loc_chan(a):\n",
    "    return a % 2 == 0\n",
    "\n",
    "def dem(a):\n",
    "    return a[a % 2 == 0], len(a[a % 2 == 0])\n",
    "\n",
    "a = np.array([120, 183, 160, 175, 145, 162, 190, 160, 152, 162])\n",
    "a_la_chan = loc_chan(a)\n",
    "a_chan, n_a_chan = dem(a)\n",
    "\n",
    "x_la_chan = loc_chan(x)\n",
    "x_chan, n_x_chan = dem(x)\n",
    "# ...\n",
    "\n",
    "print( \"b. Cac phan tu chan trong day a, b: \")\n",
    "print(f\"+ Day a: {a}\")\n",
    "print(f\"  - Loc chan: {a_la_chan}\")\n",
    "print(f\"  - Day chua phan tu chan trong a: {a_chan}, so luong {n_a_chan} phan tu.\")\n",
    "print(f\"+ Day x: {x}\")\n",
    "print(f\"  - Loc chan: {x_la_chan}\")\n",
    "print(f\"  - Day chua phan tu chan trong a: {x_chan}, so luong {n_x_chan} phan tu.\")"
   ]
  },
  {
   "cell_type": "code",
   "execution_count": 34,
   "id": "6971f823",
   "metadata": {},
   "outputs": [
    {
     "name": "stdout",
     "output_type": "stream",
     "text": [
      "c.Tính hiệu các phần tử ở vị trí lẻ của mảng a và x: \n",
      "+ Vi tri le trong a va x: [1]\n",
      "+ Day so a: [1 3 5] va cac so o vi tri le: [3]\n",
      "+ Day so x: [ 2 10  8] va cac so o vi tri le: [10]\n",
      "+ Hieu cua a va x o vi tri le: [-7]\n",
      "+ Khoang cach cac phan tu cua a va x o vi tri le:  7.00\n"
     ]
    }
   ],
   "source": [
    "v_le = np.arange(1, len(a), 2)\n",
    "\n",
    "a_le = a[v_le]\n",
    "x_le = x[v_le]\n",
    "\n",
    "hieu_le = a_le - x_le\n",
    "\n",
    "kc_le = np.linalg.norm(hieu_le)\n",
    "# ...\n",
    "\n",
    "print( \"c.Tính hiệu các phần tử ở vị trí lẻ của mảng a và x: \")\n",
    "print(f\"+ Vi tri le trong a va x: {v_le}\")\n",
    "print(f\"+ Day so a: {a} va cac so o vi tri le: {a_le}\")\n",
    "print(f\"+ Day so x: {x} va cac so o vi tri le: {x_le}\")\n",
    "print(f\"+ Hieu cua a va x o vi tri le: {hieu_le}\")\n",
    "print(f\"+ Khoang cach cac phan tu cua a va x o vi tri le: {kc_le: .2f}\")"
   ]
  },
  {
   "cell_type": "code",
   "execution_count": 39,
   "id": "e73e94e3",
   "metadata": {},
   "outputs": [
    {
     "name": "stdout",
     "output_type": "stream",
     "text": [
      "d. Tìm khoảng cách nhỏ nhất giữa tập a và x. Ví dụ: min({1, 3, 5}, {2, 10, 8}} = 1\n",
      "+ Day a: [120 183 160 175 145 162 190 160 152 162]\n",
      "+ Day x: [ 1  2  3  4  5  6  7  8  9 10]\n",
      "+ Khoang cach nho nhat: 110\n"
     ]
    }
   ],
   "source": [
    "print(\"d. Tìm khoảng cách nhỏ nhất giữa tập a và x. Ví dụ: min({1, 3, 5}, {2, 10, 8}} = 1\")\n",
    "\"\"\"\n",
    "Gợi ý: Áp dụng toán tử broatcasting\n",
    "[[1],                    [[1, 1, 1],        [[2, 10, 8],    =   [[-1, -9, -7],\n",
    " [3],   - [2, 10, 8] =    [3, 3, 3],   -     [2, 10, 8],         [ 1, -7, -5],  --> np.min(np.abs(...)) = 1\n",
    " [5]]                     [5, 5, 5]]         [2, 10, 8]]         [ 3, -5, -3]]\n",
    "\"\"\"\n",
    "a = np.array([120, 183, 160, 175, 145, 162, 190, 160, 152, 162])\n",
    "x = np.arange(1, 11)\n",
    "v_min = np.min(np.abs(a[:, np.newaxis] - x))\n",
    "# Tăng số chiều dùng tại vị trí chiều cuối dùng np.newaxis như sau: a[:, np.newaxis]\n",
    "# ...\n",
    "\n",
    "print(f\"+ Day a: {a}\")\n",
    "print(f\"+ Day x: {x}\")\n",
    "print(f\"+ Khoang cach nho nhat: {v_min}\")"
   ]
  },
  {
   "cell_type": "markdown",
   "id": "3522aa5b",
   "metadata": {},
   "source": [
    "#### ***4. Sinh ngẫu nhiên dãy số***\n",
    "***(a)*** Sinh ngẫu nhiên dãy số có 100 phần tử theo phân bố đều với giá trị trong đoạn $\\left[1, 10 \\right]$ và vẽ đồ thị tần số xuất hiện<br>\n",
    "***(b)*** Sinh ngẫu nhiên N diem $(x, y)$ với y là hàm phân phối chuẩn $ N(\\mu = 1, \\sigma^2 = 1.0): $\n",
    "$$\n",
    "y = f(x|\\mu,\\sigma) = \\frac{1}{\\sigma \\sqrt{2\\pi}}exp (-\\frac{(x - \\mu)^2}{2\\sigma^2})\n",
    "$$\n",
    "nơi mà $ x \\in \\left[\\mu - 5\\sigma, \\mu + 5\\sigma \\right] $<br>\n",
    "***(c)*** Sinh ngẫu nhiên dãy số có 100000 phần tử theo phân bố chuẩn $ N(\\mu=1,\\sigma^2=1.0) $ và vẽ đồ thị tần số xuất hiện\n"
   ]
  },
  {
   "cell_type": "code",
   "execution_count": 42,
   "id": "bfbc6dcc",
   "metadata": {},
   "outputs": [
    {
     "name": "stdout",
     "output_type": "stream",
     "text": [
      "a. Sinh ngẫu nhiên theo phân bố đều\n",
      "+ Gia tri: [ 1  2  3  4  5  6  7  8  9 10]\n",
      "+ So lan xuat hien: [1019  979  989 1033  956  993  991 1002 1029 1009]\n",
      "+ Do thi ham so xuat hien\n"
     ]
    },
    {
     "data": {
      "image/png": "[encoded data removed]",
      "text/plain": [
       "<Figure size 600x600 with 1 Axes>"
      ]
     },
     "metadata": {},
     "output_type": "display_data"
    }
   ],
   "source": [
    "import matplotlib.pyplot as plt  # Khai báo thư viện pyplot trong matplotlib\n",
    "import numpy as np\n",
    "# Sử dụng hàm np.random.randint để sinh dãy số ngẫu nhiên\n",
    "# Sử dụng hàm np.unique để trả về tần số xuất hiện\n",
    "# ...\n",
    "\n",
    "a = np.random.randint(1, 11, 10000)\n",
    "value, cnt = np.unique(a, return_counts=True)\n",
    "\n",
    "print(\"a. Sinh ngẫu nhiên theo phân bố đều\")\n",
    "print(f\"+ Gia tri: {value}\")\n",
    "print(f\"+ So lan xuat hien: {cnt}\")\n",
    "print(\"+ Do thi ham so xuat hien\")\n",
    "plt.figure(figsize=(6,6))      #  kich thuoc ban ve\n",
    "plt.bar(value, cnt)            #  ve cac khoi chu nhat theo day x, y\n",
    "plt.xlim(0, 11)                #  gioi han truc x\n",
    "plt.ylim(0, np.max(cnt) + 10)  #  gioi han truc y\n",
    "plt.savefig(\"4a.png\")          #  luu do thi\n",
    "plt.show()                     #  hien thi do thi"
   ]
  },
  {
   "cell_type": "code",
   "execution_count": 44,
   "id": "3cfadbe9",
   "metadata": {},
   "outputs": [
    {
     "name": "stdout",
     "output_type": "stream",
     "text": [
      "b. Sinh cặp (x, y) với y làm hàm phân phối chuẩn\n",
      "+ x: -5 <= min [-4.99] <= max [ 4.94] <= 5\n",
      "+ Ve ham so y(x)\n"
     ]
    },
    {
     "data": {
      "image/png": "[encoded data removed]",
      "text/plain": [
       "<Figure size 600x600 with 1 Axes>"
      ]
     },
     "metadata": {},
     "output_type": "display_data"
    }
   ],
   "source": [
    "# Sử dụm hàm np.random.rand() sinh số ngẫu nhiên trong [0,1) --> [0,1) * (b - a) + a --> [a, b)\n",
    "# Sử dụng hàm sau để tính hàm xác suất chuẩn N(m, s): np.sqrt, np.exp\n",
    "# ...\n",
    "x_min, x_max = -5, 5   # khoảng sinh ngẫu nhiên\n",
    "m, s = 0, 1            # trung bình và độ lệch chuẩn\n",
    "N = 500                # số điểm sinh\n",
    "\n",
    "# Sinh x trong [x_min, x_max]\n",
    "x = np.random.rand(N) * (x_max - x_min) + x_min\n",
    "\n",
    "# Hàm mật độ phân phối chuẩn N(m, s^2)\n",
    "y = (1 / (np.sqrt(2 * np.pi * s**2))) * np.exp(-((x - m) ** 2) / (2 * s**2))\n",
    "\n",
    "print(\"b. Sinh cặp (x, y) với y làm hàm phân phối chuẩn\")\n",
    "print(f\"+ x: {x_min} <= min [{np.min(x): .2f}] <= max [{np.max(x): .2f}] <= {x_max}\")\n",
    "print(f\"+ Ve ham so y(x)\")\n",
    "plt.figure(figsize=(6,6))      # kich thuoc ban ve\n",
    "plt.scatter(x, y)              # ve cac diem (xi, yi)\n",
    "plt.savefig(\"4b.png\")          #  luu do thi\n",
    "plt.show()                     #  hien thi do thi"
   ]
  },
  {
   "cell_type": "code",
   "execution_count": 45,
   "id": "c762ac9b",
   "metadata": {},
   "outputs": [
    {
     "name": "stdout",
     "output_type": "stream",
     "text": [
      "c. Sinh day so theo phan phoi chuan\n",
      "+ x: len = 100000, min [-3.163518868139164], max [5.314590945342333]\n",
      "+ Mat so xac suat cua day so x\n"
     ]
    },
    {
     "data": {
      "image/png": "[encoded data removed]",
      "text/plain": [
       "<Figure size 600x600 with 1 Axes>"
      ]
     },
     "metadata": {},
     "output_type": "display_data"
    }
   ],
   "source": [
    "# Sử dụng hàm np.random.randn() sinh phân phối chuẩn N(0,1) --> N(m,s^2) = m + N(0,1) * s\n",
    "# Sử dụng hàm np.histogram với density=True để thống kê số lần xuất hiện với số bins = 300 (do dãy số thực)\n",
    "# ...\n",
    "\n",
    "# Tham số\n",
    "m, s = 1, 1.0\n",
    "N = 100000\n",
    "\n",
    "# Sinh dãy số ngẫu nhiên theo N(m, s^2)\n",
    "x = m + np.random.randn(N) * s\n",
    "\n",
    "# Thống kê tần suất xuất hiện (histogram)\n",
    "cnt, val = np.histogram(x, bins=300, density=True)\n",
    "\n",
    "# Trục hoành là giá trị trung điểm của từng bin\n",
    "val = (val[:-1] + val[1:]) / 2\n",
    "\n",
    "print( \"c. Sinh day so theo phan phoi chuan\")\n",
    "print(f\"+ x: len = {len(x)}, min [{np.min(x)}], max [{np.max(x)}]\")\n",
    "print(f\"+ Mat so xac suat cua day so x\")\n",
    "plt.figure(figsize=(6,6))      # kich thuoc ban ve\n",
    "plt.xlim(np.min(val), np.max(val))\n",
    "plt.scatter(val, cnt)\n",
    "plt.show()"
   ]
  },
  {
   "cell_type": "markdown",
   "id": "5cfe878a",
   "metadata": {},
   "source": [
    "### **Bài 2. Tính toán trên ma trận**"
   ]
  },
  {
   "cell_type": "markdown",
   "id": "04f520c0",
   "metadata": {},
   "source": [
    "#### ***1. Tạo ma trận a có M = 6 dòng, N = 4 cột***"
   ]
  },
  {
   "cell_type": "code",
   "execution_count": 46,
   "id": "512638ab",
   "metadata": {},
   "outputs": [
    {
     "name": "stdout",
     "output_type": "stream",
     "text": [
      "Ma trận a: \n",
      " [[134 105 104 100]\n",
      " [118 111 110 172]\n",
      " [142 107 186 190]\n",
      " [144 122 142 118]\n",
      " [138 177 114 177]\n",
      " [117 199 147 112]]\n"
     ]
    }
   ],
   "source": [
    "a = np.random.randint(100, 200, (6, 4))\n",
    "\n",
    "print(\"Ma trận a: \\n\", a)"
   ]
  },
  {
   "cell_type": "markdown",
   "id": "5848b6a0",
   "metadata": {},
   "source": [
    "#### ***2. Các thao tác trên ma trận a***\n",
    "&nbsp;&nbsp;&nbsp;***(a)*** In ra ma trận chuyển vị <br/>\n",
    "&nbsp;&nbsp;&nbsp;***(b)*** In ra phần tử ở vị trí dòng 2 cột 3 <br/>\n",
    "&nbsp;&nbsp;&nbsp;***(c)*** Trích xuất dòng đầu, dòng cuối, dòng 2 <br/>\n",
    "&nbsp;&nbsp;&nbsp;***(d)*** Trích xuất cột kế cuối, cột đầu <br/>\n",
    "&nbsp;&nbsp;&nbsp;***(e)*** Đảo các giá trị trên từng cột <br/>\n",
    "&nbsp;&nbsp;&nbsp;***(f)*** Tính tổng các dòng, trung bình các cột <br/>"
   ]
  },
  {
   "cell_type": "code",
   "execution_count": null,
   "id": "283c8515",
   "metadata": {},
   "outputs": [
    {
     "name": "stdout",
     "output_type": "stream",
     "text": [
      "[[ 6  8 19  7 16]\n",
      " [16  4  3 17 12]\n",
      " [ 6 20 12 16  4]\n",
      " [18  8 15 16  9]]\n",
      "a. In ra ma trận chuyển vị: \n",
      "[[ 6 16  6 18]\n",
      " [ 8  4 20  8]\n",
      " [19  3 12 15]\n",
      " [ 7 17 16 16]\n",
      " [16 12  4  9]]\n",
      "\n",
      "b. In ra phần tử ở vị trí dòng 2 cột 3: 3\n",
      "\n",
      "c. Trích xuất các dòng: \n",
      "   + Dòng đầu : [ 6  8 19  7 16]\n",
      "   + Dòng cuối: [18  8 15 16  9]\n",
      "   + Dòng hai : [16  4  3 17 12]\n",
      "\n",
      "d. Trích xuất các cột: \n",
      "   + Cột kế cuối: [ 6 20 12 16  4]\n",
      "   + Cột đầu: [ 6  8 19  7 16]\n",
      "\n",
      "e. Đảo các giá trị trên từng cột: \n",
      " [[18  8 15 16  9]\n",
      " [ 6 20 12 16  4]\n",
      " [16  4  3 17 12]\n",
      " [ 6  8 19  7 16]]\n",
      "\n",
      "f. Phép tính theo trục:\n",
      "   + Tổng dòng: [56 52 58 66]\n",
      "   + Trung bình cột: [11.5  10.   12.25 14.   10.25]\n"
     ]
    }
   ],
   "source": [
    "a = np.random.randint(1, 21, (4, 5))\n",
    "print(a)\n",
    "\n",
    "a_t = a.T\n",
    "print(f\"a. In ra ma trận chuyển vị: \\n{a_t}\")\n",
    "\n",
    "v_23 = a[1, 2]\n",
    "print(f\"\\nb. In ra phần tử ở vị trí dòng 2 cột 3: {v_23}\")\n",
    "d_0 = a[0]\n",
    "d_last = a[-1]\n",
    "d_2 = a[1]\n",
    "print(f\"\\nc. Trích xuất các dòng: \")\n",
    "print(f\"   + Dòng đầu : {d_0}\")\n",
    "print(f\"   + Dòng cuối: {d_last}\")\n",
    "print(f\"   + Dòng hai : {d_2}\")\n",
    "\n",
    "c_l1 = a[-2]\n",
    "c_0 = a[0]\n",
    "print(f\"\\nd. Trích xuất các cột: \")\n",
    "print(f\"   + Cột kế cuối: {c_l1}\")\n",
    "print(f\"   + Cột đầu: {c_0}\")\n",
    "\n",
    "dao_cot = np.flipud(a)\n",
    "print(f\"\\ne. Đảo các giá trị trên từng cột: \\n {dao_cot}\")\n",
    "\n",
    "tong_dong = np.sum(a, axis=1)\n",
    "tb_cot = np.mean(a, axis=0)\n",
    "print(f\"\\nf. Phép tính theo trục:\")\n",
    "print(f\"   + Tổng dòng: {tong_dong}\")\n",
    "print(f\"   + Trung bình cột: {tb_cot}\")"
   ]
  },
  {
   "cell_type": "markdown",
   "id": "7cd043da",
   "metadata": {},
   "source": [
    "#### ***3. Các toán tử trên hai ma trận***\n",
    "***(a)*** Tạo hai ma trận A và B có 4 dòng x 3 cột và X có 3 dòng x 4 cột <br/>\n",
    "***(b)*** Tính tổng, hiệu, tích của từng phần tử trên hai ma trận A và B <br/>\n",
    "***(c)*** Tính phép nhân ma trận Y = A x X"
   ]
  },
  {
   "cell_type": "code",
   "execution_count": 64,
   "id": "034fcb8f",
   "metadata": {},
   "outputs": [
    {
     "name": "stdout",
     "output_type": "stream",
     "text": [
      "a. Tạo hai ma trận A và B có 4 dòng x 3 cột và X có 3 dòng x 4 cột\n",
      "+ Ma tran A: \n",
      "[[ 9  4  7]\n",
      " [ 5 10  7]\n",
      " [ 6  8  5]\n",
      " [ 7 10  1]]\n",
      "+ Ma tran B: \n",
      "[[ 2 10  3]\n",
      " [ 1  4  6]\n",
      " [ 3  7 10]\n",
      " [ 3  5  1]]\n",
      "+ Ma tran X: \n",
      "[[ 5  9  8  4]\n",
      " [ 1  7  1  8]\n",
      " [ 4 10  2  1]]\n",
      "\n",
      "b. Tính tổng, hiệu, tích của từng phần tử trên hai ma trận A và B\n",
      "A + B = \n",
      "[[11 14 10]\n",
      " [ 6 14 13]\n",
      " [ 9 15 15]\n",
      " [10 15  2]]\n",
      "A - B = \n",
      "[[ 7 -6  4]\n",
      " [ 4  6  1]\n",
      " [ 3  1 -5]\n",
      " [ 4  5  0]]\n",
      "A . B = \n",
      "[[18 40 21]\n",
      " [ 5 40 42]\n",
      " [18 56 50]\n",
      " [21 50  1]]\n",
      "\n",
      "c. Tính phép nhân ma trận Y = A x X\n",
      "Y = A x X --> shape A ((4, 3)) x shape X ((3, 4)) = shape Y ((4, 4)) \n",
      "[[ 77 179  90  75]\n",
      " [ 63 185  64 107]\n",
      " [ 58 160  66  93]\n",
      " [ 49 143  68 109]]\n"
     ]
    }
   ],
   "source": [
    "A = np.random.randint(1, 11, (4, 3))\n",
    "B = np.random.randint(1, 11, (4, 3))\n",
    "X = np.random.randint(1, 11, (3, 4))\n",
    "\n",
    "print(\"a. Tạo hai ma trận A và B có 4 dòng x 3 cột và X có 3 dòng x 4 cột\")\n",
    "print(f\"+ Ma tran A: \\n{A}\")\n",
    "print(f\"+ Ma tran B: \\n{B}\")\n",
    "print(f\"+ Ma tran X: \\n{X}\")\n",
    "\n",
    "AB_add = A + B\n",
    "AB_sub = A - B\n",
    "AB_mul = A * B\n",
    "print(\"\\nb. Tính tổng, hiệu, tích của từng phần tử trên hai ma trận A và B\")\n",
    "print(f\"A + B = \\n{AB_add}\")\n",
    "print(f\"A - B = \\n{AB_sub}\")\n",
    "print(f\"A . B = \\n{AB_mul}\")\n",
    "\n",
    "print(\"\\nc. Tính phép nhân ma trận Y = A x X\")\n",
    "Y = A @ X\n",
    "print(f\"Y = A x X --> shape A ({A.shape}) x shape X ({X.shape}) = shape Y ({Y.shape}) \\n{Y}\")"
   ]
  },
  {
   "cell_type": "markdown",
   "id": "9d0d061d",
   "metadata": {},
   "source": [
    "#### ***4. Giải hệ phương trình tuyến tính***\n",
    "*Giải hệ phương trình tuyến tính sau:*\n",
    "$$\n",
    "\\left\\{\\begin{matrix}\n",
    "        4x_1  + 3x_2 - 5x_3 = 2 \\\\\n",
    "        -2x_1 - 4x_2 + 5x_3 = 5 \\\\\n",
    "        8x_1 + 8x_2 = -3 \\\\\n",
    "\\end{matrix}\\right.\n",
    "$$"
   ]
  },
  {
   "cell_type": "code",
   "execution_count": 65,
   "id": "c207702d",
   "metadata": {},
   "outputs": [
    {
     "name": "stdout",
     "output_type": "stream",
     "text": [
      "+ Ma tran A: \n",
      "[[ 4.  3. -5.]\n",
      " [-2. -4.  5.]\n",
      " [ 8.  8.  0.]]\n",
      "+ Vector y: [ 2.  5. -3.]\n",
      "+ Nghiem x: [ 2.20833333 -2.58333333 -0.18333333]\n",
      "+ Kiem tra: yy = Ax = [ 2.  5. -3.] ==> ||yy -y ||_2 =  0.00\n"
     ]
    }
   ],
   "source": [
    "A = np.array([\n",
    "    [4, 3, -5],\n",
    "    [-2, -4, 5],\n",
    "    [8, 8, 0]\n",
    "], dtype=float)\n",
    "\n",
    "y = np.array([2, 5, -3], dtype=float)\n",
    "\n",
    "x = np.linalg.solve(A, y)\n",
    "\n",
    "yy = np.dot(A, x)\n",
    "diff = np.linalg.norm(yy - y)\n",
    "\n",
    "print(f\"+ Ma tran A: \\n{A}\")\n",
    "print(f\"+ Vector y: {y}\")\n",
    "print(f\"+ Nghiem x: {x}\")\n",
    "print(f\"+ Kiem tra: yy = Ax = {yy} ==> ||yy -y ||_2 = {diff: .2f}\")"
   ]
  },
  {
   "cell_type": "markdown",
   "id": "a7f0ba1e",
   "metadata": {},
   "source": [
    "## **Bài tập áp dụng**"
   ]
  },
  {
   "cell_type": "markdown",
   "id": "fd211b28",
   "metadata": {},
   "source": [
    "### ***Bài 3. Tính gần đúng số pi dùng phương pháp Monte Carlo***\n",
    "\n",
    "Vẽ một đường tròn $C$ có bán kính $r$ nội tiếp một hình vuông $C$, và đặt ngẫu nhiên $N$ chấm lên hình vuông. Tỉ lệ các chấm nằm trong hình tròn trên tổng số chấm xấp xỉ bằng diện tích của hình tròn chia cho hình vuông như sau:\n",
    "$$\n",
    "\\frac{N_C}{N} \\approx  \\frac{\\mathbb{S}_C}{\\mathbb{S}_N}\n",
    "$$\n",
    "nơi mà $N_C$ là các chấm trong hình tròn, $N$ là tổng số chấm, $\\mathbb{S}_C$ và $\\mathbb{S}_N$ lần lượt là diện tích của hình tròn và hình vuông.\n",
    "$$ \\mathbb{S}_C = \\pi * r^2 $$\n",
    "$$ \\mathbb{S}_N = (2*r)^2 = 4r^2 $$\n",
    "Do đó, công thức trên trở thành:\n",
    "$$\n",
    "\\frac{N_C}{N} \\approx \\frac{\\pi * r^2}{4r^2} = \\frac{\\pi}{4}\n",
    "$$\n",
    "Suy ra, ta có giá trị số $\\pi$ được tính như sau:\n",
    "$$\n",
    "\\pi \\approx \\frac{4N_C}{N}\n",
    "$$\n",
    "\n",
    "Các bạn hãy lập trình tính sấp xỉ số $\\pi$ dùng phương pháp Monte Carlo. Cho biết các sai số với $N = 100$, $N = 10000$, và $N = 1000000$. Vẽ đồ thị minh họa cho chương trình.\n",
    "\n",
    "***Hướng dẫn***: Viết chương trình phát sinh $N$ điểm $(x_i, y_i)$ với $x_i, y_i \\in [-1, -1]$. $(x_i, y_i)$ thuộc hình tròn tâm $(0, 0)$ bán kính 1 nội tiếp hình vuông có tâm tại $(0, 0)$ độ dài cạnh 2 khi và chỉ khi $x_i^2 + y_i^2 <= 1$."
   ]
  },
  {
   "cell_type": "code",
   "execution_count": 73,
   "id": "02a4af53",
   "metadata": {},
   "outputs": [
    {
     "data": {
      "image/png": "[encoded data removed]",
      "text/plain": [
       "<Figure size 600x600 with 1 Axes>"
      ]
     },
     "metadata": {},
     "output_type": "display_data"
    }
   ],
   "source": [
    "import matplotlib.pyplot as plt # khai báo thư viện vẽ pyplot\n",
    "import math\n",
    "\n",
    "circle = plt.Circle((0, 0), 1, color='g') # tạo đối tượng vòng tròn\n",
    "\n",
    "fig, ax = plt.subplots(figsize=(6, 6)) # lấy figure và vùng vẽ\n",
    "\n",
    "plt.plot(0, 0, 'o', color=(0.9, 0.9, 1.0), alpha=0.8) # vẽ điểm tại tâm (0,0)\n",
    "ax.add_patch(circle) # thêm vòng tròn vào vùng vẽ\n",
    "\n",
    "x = 0.75; y = math.sqrt(1 - (x ** 2)) # (x = 0.75, y = căn bậc 2 của 1 - x^2)\n",
    "plt.arrow(0, 0, x, y)\n",
    "\n",
    "plt.xlim(-1, 1) # giới hạn trục x\n",
    "plt.ylim(-1, 1) # giới hạn trục y\n",
    "\n",
    "plt.savefig('pi.png') # lưu đồ thị xuống tập tin\n",
    "plt.show()            # hiển thị đồ thị"
   ]
  },
  {
   "cell_type": "code",
   "execution_count": 78,
   "id": "e026d775",
   "metadata": {},
   "outputs": [],
   "source": [
    "import numpy as np\n",
    "\n",
    "def calc_pi_monte_carlo(n=100):\n",
    "    # Sinh ngẫu nhiên n điểm (x, y) trong [-1, 1] x [-1, 1]\n",
    "    x = np.random.uniform(-1, 1, n)\n",
    "    y = np.random.uniform(-1, 1, n)\n",
    "\n",
    "    # Đếm số điểm nằm trong đường tròn: x^2 + y^2 <= 1\n",
    "    inside = np.sum(x**2 + y**2 <= 1)\n",
    "\n",
    "    # Công thức Monte Carlo: pi ≈ 4 * (số điểm trong / tổng số điểm)\n",
    "    pi_est = 4 * inside / n\n",
    "    return pi_est\n"
   ]
  },
  {
   "cell_type": "code",
   "execution_count": 79,
   "id": "5166917e",
   "metadata": {},
   "outputs": [
    {
     "name": "stdout",
     "output_type": "stream",
     "text": [
      "epsilon(n=100):  0.0984073464102071\n",
      "epsilon(n=100):  0.018407346410207026\n",
      "epsilon(n=10000):  -0.04919265358979308\n",
      "epsilon(n=10000):  -0.04879265358979312\n",
      "epsilon(n=1000000):  -0.0005286535897930378\n",
      "epsilon(n=1000000):  0.00018734641020667908\n"
     ]
    }
   ],
   "source": [
    "import math\n",
    "\n",
    "print(\"epsilon(n=100): \", calc_pi_monte_carlo(n = 100) - math.pi)\n",
    "print(\"epsilon(n=100): \", calc_pi_monte_carlo(n = 100) - math.pi)\n",
    "print(\"epsilon(n=10000): \", calc_pi_monte_carlo(n = 10000) - math.pi)\n",
    "print(\"epsilon(n=10000): \", calc_pi_monte_carlo(n = 10000) - math.pi)\n",
    "print(\"epsilon(n=1000000): \", calc_pi_monte_carlo(n = 1000000) - math.pi)\n",
    "print(\"epsilon(n=1000000): \", calc_pi_monte_carlo(n = 1000000) - math.pi)"
   ]
  },
  {
   "cell_type": "markdown",
   "id": "a2a37ccf",
   "metadata": {},
   "source": [
    "# **Kết thúc**"
   ]
  }
 ],
 "metadata": {
  "kernelspec": {
   "display_name": "Python 3",
   "language": "python",
   "name": "python3"
  },
  "language_info": {
   "codemirror_mode": {
    "name": "ipython",
    "version": 3
   },
   "file_extension": ".py",
   "mimetype": "text/x-python",
   "name": "python",
   "nbconvert_exporter": "python",
   "pygments_lexer": "ipython3",
   "version": "3.13.2"
  }
 },
 "nbformat": 4,
 "nbformat_minor": 5
}
