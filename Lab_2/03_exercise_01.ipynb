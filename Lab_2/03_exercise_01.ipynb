{
 "cells": [
  {
   "cell_type": "markdown",
   "id": "50ac2bb7",
   "metadata": {},
   "source": [
    "# **Cơ bản về ngôn ngữ Python**"
   ]
  },
  {
   "cell_type": "markdown",
   "id": "696f739b",
   "metadata": {},
   "source": [
    "## **1. Nhập/xuất, biểu thức tính toán**"
   ]
  },
  {
   "cell_type": "markdown",
   "id": "1f7113dd",
   "metadata": {},
   "source": [
    "### ***Bài 1. Tính giá trị hàm số***"
   ]
  },
  {
   "cell_type": "markdown",
   "id": "394f09b6",
   "metadata": {},
   "source": [
    "**Yêu cầu:** *Hãy viết chương trình nhập vào số thực x và tính giá trị biểu thức:*1\n",
    "$\n",
    "f(x) = x + \\frac{x^5}{5!} + \\frac{\\sqrt{|x|}}{x^{3/2}}\n",
    "$\n",
    "\n",
    "&nbsp;&nbsp;&nbsp;Moi ban nhap vao gia tri cua bien so x: **2.3**<br>\n",
    "&nbsp;&nbsp;&nbsp;Gia tri cua ham so f(**2.3**) = **3.27**."
   ]
  },
  {
   "cell_type": "code",
   "execution_count": 82,
   "id": "9f8639e5",
   "metadata": {},
   "outputs": [
    {
     "name": "stdout",
     "output_type": "stream",
     "text": [
      "Gia tri cua ham so f(2.3) =  3.27.\n"
     ]
    }
   ],
   "source": [
    "# Khai báo thư viện\n",
    "import math\n",
    "\n",
    "# Nhập dữ liệu\n",
    "x  = float(input('Moi ban nhap vao gia tri cua bien so x: '))\n",
    "# Xử lý\n",
    "f_x = x + (math.pow(x, 5)/ math.factorial(5)) + (math.sqrt(abs(x)) / math.sqrt(math.pow(x, 3)))\n",
    "# ...\n",
    "\n",
    "# Xuất dữ liệu\n",
    "print(f'Gia tri cua ham so f({x}) = {f_x: .2f}.')"
   ]
  },
  {
   "cell_type": "markdown",
   "id": "8779da8d",
   "metadata": {},
   "source": [
    "### ***Bài 2. Đổi sang giờ phút giây***"
   ]
  },
  {
   "cell_type": "markdown",
   "id": "6c23c91c",
   "metadata": {},
   "source": [
    "**Yêu cầu**: *Một thiết bị hoạt động được t giây. Hãy viết chương trình chuyển số giây đó dưới dạng số giờ, số phút và số giây.*\n",
    "\n",
    "&nbsp;&nbsp;&nbsp;Nhap vao tong so giay: 4810<br>\n",
    "&nbsp;&nbsp;&nbsp;4810 giay co dang 1:20:10"
   ]
  },
  {
   "cell_type": "code",
   "execution_count": 83,
   "id": "6d6efc7a",
   "metadata": {},
   "outputs": [
    {
     "name": "stdout",
     "output_type": "stream",
     "text": [
      "4810 giay co dang 1:20:10\n"
     ]
    }
   ],
   "source": [
    "# Nhập dữ liệu\n",
    "t  = int(input('Nhap vao tong so giay: '))\n",
    "\n",
    "# Xử lý\n",
    "hh = t // 3600\n",
    "mm = (t % 3600) //60\n",
    "ss = t % 60\n",
    "# ...\n",
    "\n",
    "# Xuất dữ liệu\n",
    "print(f'{t} giay co dang {hh}:{mm}:{ss}')"
   ]
  },
  {
   "cell_type": "markdown",
   "id": "3cde5742",
   "metadata": {},
   "source": [
    "## **2. Cấu trúc lựa chọn**"
   ]
  },
  {
   "cell_type": "markdown",
   "id": "ec72f6d5",
   "metadata": {},
   "source": [
    "### ***Bài 3. Giải phương trình bậc 1***\n",
    "\n",
    "***Yêu cầu***: *Nhập 2 số thực a, b. Tìm nghiệm của phương trình bậc 1:*\n",
    "$\n",
    "ax + b = 0\n",
    "$\n",
    "\n",
    "&nbsp;&nbsp;&nbsp;Moi ban nhap he so a: **1**<br>\n",
    "&nbsp;&nbsp;&nbsp;Moi ban nhap he so b: **5**<br>\n",
    "&nbsp;&nbsp;&nbsp;Phuong trinh **1x + 5 = 0** co **1** nghiem x = **-5.00**."
   ]
  },
  {
   "cell_type": "code",
   "execution_count": 84,
   "id": "43eea5e1",
   "metadata": {},
   "outputs": [
    {
     "name": "stdout",
     "output_type": "stream",
     "text": [
      "Phuong trinh 1x + 5 = 0 co 1 nghiem x = -5.00.\n"
     ]
    }
   ],
   "source": [
    "# Nhập dữ liệu\n",
    "a  = int(input('Moi ban nhap he so a: '))\n",
    "b  = int(input('Moi ban nhap he so b: '))\n",
    "\n",
    "# Xử lý\n",
    "flag = 1\n",
    "if a == 0:\n",
    "    if b == 0:\n",
    "        flag = -1\n",
    "    else:\n",
    "        flag = 0\n",
    "else:\n",
    "    x = -b/a\n",
    "# ...\n",
    "    \n",
    "# Xuất dữ liệu\n",
    "s = f'Phuong trinh {a}x + {b} = 0'\n",
    "if flag == -1:\n",
    "    print(f'{s} vo so nghiem.')\n",
    "elif flag == 0:\n",
    "    print(f'{s} vo nghiem.')\n",
    "else:\n",
    "    print(f'{s} co 1 nghiem x = {x: .2f}.')\n",
    "# if"
   ]
  },
  {
   "cell_type": "markdown",
   "id": "64c1d53c",
   "metadata": {},
   "source": [
    "### ***Bài 4. Chuyển ký số sang số***\n",
    "***Yêu cầu***: *Nhập một chuỗi s là chuỗi biểu diễn ký tự số trong tiếng Anh gồm {zero, one, two, three, four, five, six, seven, eight, nine}. Hãy kiểm tra chuỗi nhập có hợp lệ không? Nếu hợp lệ thì in ra ký số của chuỗi đó và chuỗi ký số bên tiếng việt tương ứng.*\n",
    "\n",
    "&nbsp;&nbsp;&nbsp;Moi ban nhap chuoi ky so s: One<br>\n",
    "&nbsp;&nbsp;&nbsp;Chuoi vua nhap hop le! \"One\" bieu dien so cho \"1\" va ung voi tieng Viet \"mot\".<br>\n",
    "\n",
    "&nbsp;&nbsp;&nbsp;Moi ban nhap chuoi ky so s: hello<br>\n",
    "&nbsp;&nbsp;&nbsp;Chuoi vua nhap khong hop le!<br>"
   ]
  },
  {
   "cell_type": "code",
   "execution_count": 85,
   "id": "03343109",
   "metadata": {},
   "outputs": [
    {
     "name": "stdout",
     "output_type": "stream",
     "text": [
      "Chuoi vua nhap hop le!\n",
      "\"TwO\" bieu dien cho \"2\" va ung voi tieng viet la \"hai\"\n"
     ]
    }
   ],
   "source": [
    "s = input(\"Moi ban nhap chuoi ky so s: \")\n",
    "\n",
    "en  = [\"zero\", \"one\", \"two\", \"three\", \"four\", \"five\", \"six\", \"seven\", \"eight\", \"nine\"]\n",
    "vi  = [\"khong\", \"mot\", \"hai\", \"ba\", \"bon\", \"nam\", \"sau\", \"bay\", \"tam\", \"chin\"]\n",
    "num = [0, 1, 2, 3, 4, 5, 6, 7, 8, 9]\n",
    "\n",
    "flag = 0\n",
    "position = -1\n",
    "for i in range (len(en)):\n",
    "    if s.lower() == en[i]:\n",
    "        flag = 1\n",
    "        position = i\n",
    "        break;\n",
    "\n",
    "if flag == 1:\n",
    "    print('Chuoi vua nhap hop le!')\n",
    "    print(f'\"{s}\" bieu dien cho \"{num[position]}\" va ung voi tieng viet la \"{vi[position]}\"')\n",
    "# ..."
   ]
  },
  {
   "cell_type": "markdown",
   "id": "a05f14c5",
   "metadata": {},
   "source": [
    "## **3. Cấu trúc lặp**"
   ]
  },
  {
   "cell_type": "markdown",
   "id": "ee552bba",
   "metadata": {},
   "source": [
    "### ***Bài 5. Tính tổng các số chẵn***\n",
    "***Yêu cầu***: *Nhập một số nguyên n. Hãy tính tổng các số chẵn từ 1 đến n.*\n",
    "\n",
    "&nbsp;&nbsp;&nbsp;&nbsp;Moi ban nhap so nguyen n: **100**<br>\n",
    "&nbsp;&nbsp;&nbsp;&nbsp;Tong cac so chan tu 1 den **100** la **2550**.\n",
    "\n"
   ]
  },
  {
   "cell_type": "code",
   "execution_count": 86,
   "id": "d501089f",
   "metadata": {},
   "outputs": [
    {
     "name": "stdout",
     "output_type": "stream",
     "text": [
      "Tong cac so chan tu 1 den 100 la 2550.\n"
     ]
    }
   ],
   "source": [
    "# Nhập dữ liệu\n",
    "n   = int(input(\"Moi ban nhap so nguyen n: \"))\n",
    "\n",
    "# Xuất dữ liệu\n",
    "s   = 0\n",
    "for i in range (n+1):\n",
    "    if i%2 == 0:\n",
    "        s += i\n",
    "# ...\n",
    "\n",
    "print(f'Tong cac so chan tu 1 den {n} la {s}.')"
   ]
  },
  {
   "cell_type": "markdown",
   "id": "28cccab5",
   "metadata": {},
   "source": [
    "### ***Bài 6. Kiểm tra số nguyên tố***\n",
    "***Yêu cầu***: *Nhập vào một số nguyên dương n. Hãy kiểm tra xem n có phải là nguyên tố không?*\n",
    "\n",
    "&nbsp;&nbsp;&nbsp;&nbsp;Moi nhap nhap so nguyen n: 10<br>\n",
    "&nbsp;&nbsp;&nbsp;&nbsp;10 khong phai la so nguyen to.\n",
    "\n",
    "&nbsp;&nbsp;&nbsp;&nbsp;Moi nhap nhap so nguyen n: 97<br>\n",
    "&nbsp;&nbsp;&nbsp;&nbsp;97 la so nguyen to.\n",
    "\n",
    "***Lưu ý***: n là số nguyên tố khi và chỉ khi không tồn tại số nguyên từ  2  đến  $\\sqrt{n}$  mà chia hết cho n."
   ]
  },
  {
   "cell_type": "code",
   "execution_count": 87,
   "id": "7933a048",
   "metadata": {},
   "outputs": [
    {
     "name": "stdout",
     "output_type": "stream",
     "text": [
      "10 khong la so nguyen to.\n"
     ]
    }
   ],
   "source": [
    "# Nhập dữ liệu\n",
    "n   = int(input(\"Moi ban nhap so nguyen n: \"))\n",
    "\n",
    "# Xử lý \n",
    "lant = True\n",
    "if n < 2:\n",
    "    lant =False\n",
    "else:\n",
    "    for i in range( 2, int(n**0.5)+1):\n",
    "        if n % i == 0:\n",
    "            lant = False\n",
    "            break;\n",
    "# ...\n",
    "\n",
    "# Xuất dữ liệu\n",
    "if lant == True:\n",
    "    print(f'{n} la so nguyen to.')\n",
    "else:\n",
    "    print(f'{n} khong la so nguyen to.')"
   ]
  },
  {
   "cell_type": "markdown",
   "id": "7640ba08",
   "metadata": {},
   "source": [
    "## **4. Xử lý ngoại lệ và hàm số**"
   ]
  },
  {
   "cell_type": "markdown",
   "id": "a06e2e90",
   "metadata": {},
   "source": [
    "### ***Bài 7. Giải phương trình bậc 2***\n",
    "***Yêu cầu***: *Nhập 3 số thực a, b, c (có kiểm tra dữ liệu nhập số thực). Hãy xây dựng hàm giải phương trình bậc 2  $ax^2+bx+c=0$  và in kết quả giải ra màn hình.*\n",
    "\n",
    "&#8226;&nbsp;Moi ban nhap he so a, b, c: **a b c**<br>\n",
    "&#8226;&nbsp;Ban nhap sai! Moi ban nhap lai!<br>\n",
    "&#8226;&nbsp;Moi ban nhap he so a, b, c: **1 a 3**<br>\n",
    "&#8226;&nbsp;Ban nhap sai! Moi ban nhap lai!<br>\n",
    "&#8226;&nbsp;Moi ban nhap he so a, b, c: **1 5 6**<br>\n",
    "Phuong trinh bac $2:  1x^2 + 5x + 6 = 0$ co $2$ nghiem $x1 = **-2.00**, x2 = **-3.00**$."
   ]
  },
  {
   "cell_type": "code",
   "execution_count": 88,
   "id": "b69c3316",
   "metadata": {},
   "outputs": [],
   "source": [
    "def NhapDuLieu():\n",
    "    \"\"\"\n",
    "    Input: \n",
    "        Ban phim = 1 5 6\n",
    "    Output:\n",
    "        (a, b, c) --> (1, 5, 6)\n",
    "    \"\"\"\n",
    "    s = input()\n",
    "    a, b, c = s.split()\n",
    "    # ...\n",
    "    return a, b, c\n",
    "# NhapDuLieu"
   ]
  },
  {
   "cell_type": "code",
   "execution_count": 89,
   "id": "14d2625f",
   "metadata": {},
   "outputs": [],
   "source": [
    "# Kiểm tra hàm\n",
    "a, b, c = NhapDuLieu()"
   ]
  },
  {
   "cell_type": "code",
   "execution_count": 90,
   "id": "fbb176f6",
   "metadata": {},
   "outputs": [],
   "source": [
    "def GiaiPhuongTrinhBac2(a, b, c):\n",
    "    \"\"\"\n",
    "    Input: a, b, c\n",
    "    Output: \n",
    "    + flag = -1 (VSN), 0 (VN), k (k nghiem)\n",
    "    + () --> flag = -1, 0\n",
    "    + (x) --> flag = 1\n",
    "    + (x1, x2) --> flag = 2\n",
    "    \"\"\"\n",
    "    import math\n",
    "    flag = None\n",
    "    x = ()\n",
    "    \n",
    "    if a == 0:\n",
    "        if b == 0:\n",
    "            if c == 0:\n",
    "                flag = -1\n",
    "            else:\n",
    "                flag = 0\n",
    "        else:\n",
    "            flag = 1\n",
    "            x = (-c/b,)\n",
    "    else:\n",
    "        delta = b**2 - 4*a*c\n",
    "        if delta < 0:\n",
    "            flag = 0\n",
    "        elif delta == 0:\n",
    "            flag = 1\n",
    "            x = (-b/(2*a),)\n",
    "        else:\n",
    "            flag = 2\n",
    "            x1 = (-b - math.sqrt(delta)) / (2*a)\n",
    "            x2 = (-b + math.sqrt(delta)) / (2*a)\n",
    "            x = (x1, x2)\n",
    "    \n",
    "    # ...    \n",
    "    \n",
    "    return flag, x\n",
    "# GiaiPhuongTrinhBac2"
   ]
  },
  {
   "cell_type": "code",
   "execution_count": 91,
   "id": "3c37c92b",
   "metadata": {},
   "outputs": [
    {
     "name": "stdout",
     "output_type": "stream",
     "text": [
      "a = 0\n",
      "So nghiem: -1, nghiem = ()\n",
      "So nghiem: 0, nghiem = ()\n",
      "So nghiem: 1, nghiem = (-1.2,)\n",
      "a <> 0\n",
      "So nghiem: 0, nghiem = ()\n",
      "So nghiem: 1, nghiem = (-1.0,)\n",
      "So nghiem: 2, nghiem = (-3.0, -2.0)\n"
     ]
    }
   ],
   "source": [
    "print(\"a = 0\")\n",
    "flag, x = GiaiPhuongTrinhBac2(0, 0, 0)\n",
    "print(f'So nghiem: {flag}, nghiem = {x}')\n",
    "flag, x = GiaiPhuongTrinhBac2(0, 0, 5)\n",
    "print(f'So nghiem: {flag}, nghiem = {x}')\n",
    "flag, x = GiaiPhuongTrinhBac2(0, 5, 6)\n",
    "print(f'So nghiem: {flag}, nghiem = {x}')\n",
    "\n",
    "print(\"a <> 0\")\n",
    "flag, x = GiaiPhuongTrinhBac2(5, 1, 2)\n",
    "print(f'So nghiem: {flag}, nghiem = {x}')\n",
    "flag, x = GiaiPhuongTrinhBac2(1, 2, 1)\n",
    "print(f'So nghiem: {flag}, nghiem = {x}')\n",
    "flag, x = GiaiPhuongTrinhBac2(1, 5, 6)\n",
    "print(f'So nghiem: {flag}, nghiem = {x}')"
   ]
  },
  {
   "cell_type": "code",
   "execution_count": 92,
   "id": "2c35772b",
   "metadata": {},
   "outputs": [
    {
     "name": "stdout",
     "output_type": "stream",
     "text": [
      "Phuong trinh bac 2 1x^2 + 5x + 6 = 0 co 2 nghiem, x1 = -3.0, x2 = -2.0!\n"
     ]
    }
   ],
   "source": [
    "# Kết nối bài\n",
    "a, b, c = NhapDuLieu()\n",
    "# Gọi hàm giải\n",
    "flag, x = GiaiPhuongTrinhBac2(1, 5, 6)\n",
    "# Xuất dữ liệu\n",
    "s = f'Phuong trinh bac 2 {a}x^2 + {b}x + {c} = 0'\n",
    "if flag == -1:\n",
    "    print(f'{s} co vo so nghiem!')\n",
    "elif flag == 0:\n",
    "    print(f'{s} vo nghiem!')\n",
    "elif flag == 1:\n",
    "    print(f'{s} co 1 nghiem, x = {x[0]}!')\n",
    "elif flag == 2:\n",
    "    print(f'{s} co 2 nghiem, x1 = {x[0]}, x2 = {x[1]}!')\n",
    "# if"
   ]
  },
  {
   "cell_type": "markdown",
   "id": "d966b8b4",
   "metadata": {},
   "source": [
    "## **5. Dữ liệu nâng cao (List, Tuple, Set, Dictionary)**"
   ]
  },
  {
   "cell_type": "markdown",
   "id": "689a4163",
   "metadata": {},
   "source": [
    "### ***Bài 8. Các thao tác xử lý mảng số***\n",
    "***Yêu cầu***: *Viết chương trình xây dựng các hàm sau cho List và kiểm tra tính đúng đắn của các hàm số:*\n",
    "\n",
    "&#8226; Nhập một mảng số từ bàn phím cách nhau bởi khoảng trắng. Xuất mảng ra màn hình.<br>\n",
    "&#8226; Sinh một mảng số ngẫu nhiên có n phần tử trong khoảng a, b.<br>\n",
    "&#8226; Tính tổng của mảng số, đếm các phần tử chẵn, lẻ trong mảng.<br>\n",
    "&#8226; Cho một mảng số, hãy trả về dãy chẳn, dãy lẻ.<br>\n",
    "\n",
    "&nbsp;&nbsp;a = NhapMang()<br>\n",
    "&nbsp;&nbsp;XuatMang(a)<br>\n",
    "&nbsp;&nbsp;b = SinhNgauNhien(10, -10, 10)<br>\n",
    "&nbsp;&nbsp;XuatMang(b)<br>\n",
    "&nbsp;&nbsp;tong, chan, le = TinhTongChanLe(b)<br>\n",
    "&nbsp;&nbsp;a_chan, a_le = TimChanLe(b)<br>"
   ]
  },
  {
   "cell_type": "code",
   "execution_count": 93,
   "id": "f009814b",
   "metadata": {},
   "outputs": [],
   "source": [
    "def NhapMang():\n",
    "    \"\"\"\n",
    "    Input:\n",
    "        Ban phim = 1 4 1 2 3 4 1 2 3 3 1 2 3 4 10 2\n",
    "    Output:\n",
    "        a = [1, 4, 1, 2, 3, 4, 1, 2, 3, 3, 1, 2, 3, 4, 10, 2]\n",
    "    \"\"\"\n",
    "    s = input()\n",
    "    a = list(map(int,s.split()))\n",
    "    # ...\n",
    "    \n",
    "    return a\n",
    "# NhapMang"
   ]
  },
  {
   "cell_type": "code",
   "execution_count": 94,
   "id": "17e379a5",
   "metadata": {},
   "outputs": [
    {
     "name": "stdout",
     "output_type": "stream",
     "text": [
      "[1, 3, 6, 19, 4, 2, 6, 8, -2, -6]\n"
     ]
    }
   ],
   "source": [
    "a = NhapMang() # 1 4 1 2 3 4 1 2 3 3 1 2 3 4 10 2\n",
    "print(a)"
   ]
  },
  {
   "cell_type": "code",
   "execution_count": 95,
   "id": "73217c27",
   "metadata": {},
   "outputs": [],
   "source": [
    "def XuatMang(a):\n",
    "    \"\"\"\n",
    "    Input:\n",
    "        a = [1, 4, 1, 2, 3, 4, 1, 2, 3, 3, 1, 2, 3, 4, 10, 2]\n",
    "    Output: \n",
    "        In ra man hinh:\n",
    "            Mang co 16 phan tu: 1 4 1 2 3 4 1 2 3 3 1 2 3 4 10 2 \n",
    "    \"\"\"\n",
    "    print(f\"Mang co {len(a)} phan tu: \", end=\"\")\n",
    "    for i in a:\n",
    "        print(i, end=\" \")\n",
    "    # ...\n",
    "    \n",
    "# XuatMang"
   ]
  },
  {
   "cell_type": "code",
   "execution_count": 96,
   "id": "d5517585",
   "metadata": {},
   "outputs": [
    {
     "name": "stdout",
     "output_type": "stream",
     "text": [
      "Mang co 16 phan tu: 1 4 1 2 3 4 1 2 3 3 1 2 3 4 10 2 "
     ]
    }
   ],
   "source": [
    "a = [1, 4, 1, 2, 3, 4, 1, 2, 3, 3, 1, 2, 3, 4, 10, 2]\n",
    "XuatMang(a)"
   ]
  },
  {
   "cell_type": "code",
   "execution_count": 97,
   "id": "316a6388",
   "metadata": {},
   "outputs": [],
   "source": [
    "import random\n",
    "def SinhNgauNhien(n, vmin = -10, vmax = 10):\n",
    "    \"\"\"\n",
    "    Input:\n",
    "        n = 30, vmin = -10, vmax = 10\n",
    "    Output:\n",
    "        a = [-1, -4, -8, 6, 4, -5, -1, -4, -9, -5, -10, 0, -6, 2, 1, -9, -9, 10, -8, -9, -7, 9, 2, -4, -1, -6, 5, -6, 9, -8]\n",
    "    \"\"\"    \n",
    "    a = [random.randint(vmin, vmax) for _ in range(n)]\n",
    "    # ...\n",
    "    \n",
    "    return a\n",
    "# SinhNgauNhien"
   ]
  },
  {
   "cell_type": "code",
   "execution_count": 98,
   "id": "01af1a1a",
   "metadata": {},
   "outputs": [
    {
     "name": "stdout",
     "output_type": "stream",
     "text": [
      "[8, -5, -2, -5, 8, 6, 4, -3, 9, -1, -7, 2, -5, 7, -10, -8, -2, 0, 6, 1, 10, -8, 0, -9, -1, 2, 0, -6, -4, -3]\n",
      "[6, 2, 5, 4, 8, 7, 1, 2, 0, 0, 5, 9, 0, 8, 9, 6, 6, 2, 5, 0, 3, 1, 2, 5, 9, 8, 5, 6, 7, 10]\n",
      "[-4, 2, -5, -2, -7, 2, 0, -1, -7, -1, -5, -10, -9, -6, -7, 0, 1, -7, -6, -8, -10, -7, -10, -9, -9, -8, 2, -10, 2, 2]\n"
     ]
    }
   ],
   "source": [
    "b = SinhNgauNhien(30, -10, 10)\n",
    "print(b)\n",
    "b = SinhNgauNhien(30, vmin = 0)\n",
    "print(b)\n",
    "b = SinhNgauNhien(30, vmax = 2)\n",
    "print(b)"
   ]
  },
  {
   "cell_type": "code",
   "execution_count": 99,
   "id": "e9ca2372",
   "metadata": {},
   "outputs": [],
   "source": [
    "def DemTongChanLe(a):\n",
    "    \"\"\"\n",
    "    Input: a[] = [1, 4, 2, 0, -1, -7, 3, -6, 4, 9, -5, 7, 7, -7, -10, 1, -10, 9, -4, -6, 10, -2, -10, -8, -3, 2, -7, -10, 6, 0]\n",
    "    Output: tong, sochan, sole\n",
    "    \"\"\"\n",
    "    tong = 0\n",
    "    sochan = 0\n",
    "    sole = 0\n",
    "    \n",
    "    for i in a:\n",
    "        if i % 2 == 0:\n",
    "            sochan += 1\n",
    "        else:\n",
    "            sole += 1\n",
    "        tong += i\n",
    "    # ...\n",
    "    \n",
    "    return tong, sochan, sole\n",
    "# DemTongChanLe"
   ]
  },
  {
   "cell_type": "code",
   "execution_count": 100,
   "id": "53389d27",
   "metadata": {},
   "outputs": [
    {
     "name": "stdout",
     "output_type": "stream",
     "text": [
      "(-31, 17, 13)\n",
      "(141, 17, 13)\n"
     ]
    }
   ],
   "source": [
    "a = [1, 4, 2, 0, -1, -7, 3, -6, 4, 9, -5, 7, 7, -7, -10, 1, -10, 9, -4, -6, 10, -2, -10, -8, -3, 2, -7, -10, 6, 0]\n",
    "print(DemTongChanLe(a))\n",
    "a = [9, 6, 5, 0, 8, 8, 1, 10, 0, 0, 1, 1, 2, 7, 1, 10, 9, 1, 10, 8, 2, 8, 4, 5, 4, 5, 5, 3, 6, 2]\n",
    "print(DemTongChanLe(a))"
   ]
  },
  {
   "cell_type": "code",
   "execution_count": 101,
   "id": "956cdfd8",
   "metadata": {},
   "outputs": [],
   "source": [
    "def DayChanLe(a): # Gia tri tra ve\n",
    "    \"\"\"\n",
    "    Input:\n",
    "        a = [1, 4, 2, 0, -1, -7, 3, -6, 4, 9, -5, 7, 7, -7, -10, 1, -10, 9, -4, -6, 10, -2, -10, -8, -3, 2, -7, -10, 6, 0]\n",
    "    Output: (achan, ale)\n",
    "        achan = [4, 2, 0, -6, 4, -10, -10, -4, -6, 10, -2, -10, -8, 2, -10, 6, 0]\n",
    "        ale = [1, -1, -7, 3, 9, -5, 7, 7, -7, 1, 9, -3, -7]\n",
    "    \"\"\"    \n",
    "    achan = []\n",
    "    ale = []\n",
    "    \n",
    "    for i in a:\n",
    "        if i % 2 == 0:\n",
    "            achan.append(i)\n",
    "        else:\n",
    "            ale.append(i)\n",
    "    # ...\n",
    "    \n",
    "    return achan, ale\n",
    "# DayChanLe"
   ]
  },
  {
   "cell_type": "code",
   "execution_count": 102,
   "id": "379a0082",
   "metadata": {},
   "outputs": [
    {
     "name": "stdout",
     "output_type": "stream",
     "text": [
      "DayChanLe:\n",
      "Chan = [4, 2, 0, -6, 4, -10, -10, -4, -6, 10, -2, -10, -8, 2, -10, 6, 0]\n",
      "Le = [1, -1, -7, 3, 9, -5, 7, 7, -7, 1, 9, -3, -7]\n",
      "\n"
     ]
    }
   ],
   "source": [
    "a = [1, 4, 2, 0, -1, -7, 3, -6, 4, 9, -5, 7, 7, -7, -10, 1, -10, 9, -4, -6, 10, -2, -10, -8, -3, 2, -7, -10, 6, 0]\n",
    "achan, ale = DayChanLe(a)\n",
    "print(f'DayChanLe:\\nChan = {achan}\\nLe = {ale}\\n')"
   ]
  },
  {
   "cell_type": "markdown",
   "id": "900637b3",
   "metadata": {},
   "source": [
    "### ***Bài 9. Các thao tác trên tập hợp, từ điển***\n",
    "***Yêu cầu***: *Viết chương trình nhập vào một dãy ký tự a cách nhau bởi khoảng trắng. Hãy thực hiện:*\n",
    "\n",
    "&#8226;&nbsp;In các ký tự trong a không trùng nhau và được sắp theo thứ tự tăng dần<br>\n",
    "&#8226;&nbsp;Đếm số lần xuất hiện các ký tự trong dãy a\n"
   ]
  },
  {
   "cell_type": "code",
   "execution_count": 103,
   "id": "16aa8770",
   "metadata": {},
   "outputs": [],
   "source": [
    "def XuLyKhongTrung(a):\n",
    "    \"\"\"\n",
    "    Input:\n",
    "        a = ['A', 'G', 'C', 'A', 'C', 'F', 'F', 'T', 'H']\n",
    "    Output:\n",
    "        s = ['A', 'C', 'F', 'G', 'H', 'T']\n",
    "    \"\"\"\n",
    "    s = set(a)\n",
    "    # ...\n",
    "    return sorted(s)\n",
    "# XuLyKhongTrung"
   ]
  },
  {
   "cell_type": "code",
   "execution_count": 104,
   "id": "b4a919b8",
   "metadata": {},
   "outputs": [
    {
     "name": "stdout",
     "output_type": "stream",
     "text": [
      "['A', 'C', 'F', 'G', 'H', 'T']\n"
     ]
    }
   ],
   "source": [
    "a = ['A', 'G', 'C', 'A', 'C', 'F', 'F', 'T', 'H']\n",
    "b = XuLyKhongTrung(a)\n",
    "print(b)"
   ]
  },
  {
   "cell_type": "code",
   "execution_count": 105,
   "id": "bf40d874",
   "metadata": {},
   "outputs": [],
   "source": [
    "def DemSoLanXuatHien(a):\n",
    "    \"\"\"\n",
    "    Input:\n",
    "        a = ['A', 'G', 'C', 'A', 'C', 'F', 'F', 'T', 'H']\n",
    "    Output:\n",
    "        dem = {'A': 2, 'G': 1, 'C': 2, 'F': 2, 'T': 1, 'H': 1}\n",
    "    \"\"\"\n",
    "    dem = {} # (k, v): k (ky tu) v (so lan xuat hien)\n",
    "    for i in a:\n",
    "        if i in dem:\n",
    "            dem[i] += 1\n",
    "        else:\n",
    "            dem[i] = 1\n",
    "    # ...    \n",
    "    \n",
    "    return dem\n",
    "# DemSoLanXuatHien"
   ]
  },
  {
   "cell_type": "code",
   "execution_count": 106,
   "id": "df251617",
   "metadata": {},
   "outputs": [
    {
     "name": "stdout",
     "output_type": "stream",
     "text": [
      "{'A': 2, 'G': 1, 'C': 2, 'F': 2, 'T': 1, 'H': 1}\n"
     ]
    }
   ],
   "source": [
    "a = ['A', 'G', 'C', 'A', 'C', 'F', 'F', 'T', 'H']\n",
    "b = DemSoLanXuatHien(a)\n",
    "print(b)"
   ]
  },
  {
   "cell_type": "markdown",
   "id": "9a05ca7a",
   "metadata": {},
   "source": [
    "# **Kết thúc**"
   ]
  }
 ],
 "metadata": {
  "kernelspec": {
   "display_name": "Python 3",
   "language": "python",
   "name": "python3"
  },
  "language_info": {
   "codemirror_mode": {
    "name": "ipython",
    "version": 3
   },
   "file_extension": ".py",
   "mimetype": "text/x-python",
   "name": "python",
   "nbconvert_exporter": "python",
   "pygments_lexer": "ipython3",
   "version": "3.13.2"
  }
 },
 "nbformat": 4,
 "nbformat_minor": 5
}
